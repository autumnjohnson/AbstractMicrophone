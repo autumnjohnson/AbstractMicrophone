{
  "cells": [
    {
      "cell_type": "markdown",
      "metadata": {
        "id": "view-in-github",
        "colab_type": "text"
      },
      "source": [
        "<a href=\"https://colab.research.google.com/github/autumnjohnson/AbstractMicrophone/blob/master/plot_OT_2D_samples.ipynb\" target=\"_parent\"><img src=\"https://colab.research.google.com/assets/colab-badge.svg\" alt=\"Open In Colab\"/></a>"
      ]
    },
    {
      "cell_type": "markdown",
      "metadata": {
        "id": "F0gyF2y6nAoi"
      },
      "source": [
        "\n",
        "# Optimal Transport between 2D empirical distributions\n",
        "\n",
        "Illustration of 2D optimal transport between distributions that are weighted\n",
        "sum of Diracs. The OT matrix is plotted with the samples.\n"
      ]
    },
    {
      "cell_type": "code",
      "execution_count": null,
      "metadata": {
        "id": "9HpM05CXnAoj"
      },
      "outputs": [],
      "source": [
        "# Author: Remi Flamary <remi.flamary@unice.fr>\n",
        "#         Kilian Fatras <kilian.fatras@irisa.fr>\n",
        "#\n",
        "# License: MIT License\n",
        "\n",
        "# sphinx_gallery_thumbnail_number = 4\n",
        "\n",
        "import numpy as np\n",
        "import matplotlib.pylab as pl\n",
        "import ot\n",
        "import ot.plot"
      ]
    },
    {
      "cell_type": "markdown",
      "metadata": {
        "id": "OuAcf0gfnAok"
      },
      "source": [
        "## Generate data\n",
        "\n"
      ]
    },
    {
      "cell_type": "code",
      "execution_count": null,
      "metadata": {
        "id": "Ek8O7N2inAok"
      },
      "outputs": [],
      "source": [
        "n = 50  # nb samples\n",
        "\n",
        "mu_s = np.array([0, 0])\n",
        "cov_s = np.array([[1, 0], [0, 1]])\n",
        "\n",
        "mu_t = np.array([4, 4])\n",
        "cov_t = np.array([[1, -.8], [-.8, 1]])\n",
        "\n",
        "xs = ot.datasets.make_2D_samples_gauss(n, mu_s, cov_s)\n",
        "xt = ot.datasets.make_2D_samples_gauss(n, mu_t, cov_t)\n",
        "\n",
        "a, b = np.ones((n,)) / n, np.ones((n,)) / n  # uniform distribution on samples\n",
        "\n",
        "# loss matrix\n",
        "M = ot.dist(xs, xt)"
      ]
    },
    {
      "cell_type": "markdown",
      "metadata": {
        "id": "P6KntlKhnAok"
      },
      "source": [
        "## Plot data\n",
        "\n"
      ]
    },
    {
      "cell_type": "code",
      "execution_count": null,
      "metadata": {
        "id": "2TLCXh_fnAok"
      },
      "outputs": [],
      "source": [
        "pl.figure(1)\n",
        "pl.plot(xs[:, 0], xs[:, 1], '+b', label='Source samples')\n",
        "pl.plot(xt[:, 0], xt[:, 1], 'xr', label='Target samples')\n",
        "pl.legend(loc=0)\n",
        "pl.title('Source and target distributions')\n",
        "\n",
        "pl.figure(2)\n",
        "pl.imshow(M, interpolation='nearest')\n",
        "pl.title('Cost matrix M')"
      ]
    },
    {
      "cell_type": "markdown",
      "metadata": {
        "id": "XLp5JcDonAok"
      },
      "source": [
        "## Compute EMD\n",
        "\n"
      ]
    },
    {
      "cell_type": "code",
      "execution_count": null,
      "metadata": {
        "id": "ydbOmzZxnAok"
      },
      "outputs": [],
      "source": [
        "G0 = ot.emd(a, b, M)\n",
        "\n",
        "pl.figure(3)\n",
        "pl.imshow(G0, interpolation='nearest')\n",
        "pl.title('OT matrix G0')\n",
        "\n",
        "pl.figure(4)\n",
        "ot.plot.plot2D_samples_mat(xs, xt, G0, c=[.5, .5, 1])\n",
        "pl.plot(xs[:, 0], xs[:, 1], '+b', label='Source samples')\n",
        "pl.plot(xt[:, 0], xt[:, 1], 'xr', label='Target samples')\n",
        "pl.legend(loc=0)\n",
        "pl.title('OT matrix with samples')"
      ]
    },
    {
      "cell_type": "markdown",
      "metadata": {
        "id": "q3Ahmg4vnAok"
      },
      "source": [
        "## Compute Sinkhorn\n",
        "\n"
      ]
    },
    {
      "cell_type": "code",
      "execution_count": null,
      "metadata": {
        "id": "NCd2a07WnAok"
      },
      "outputs": [],
      "source": [
        "# reg term\n",
        "lambd = 1e-1\n",
        "\n",
        "Gs = ot.sinkhorn(a, b, M, lambd)\n",
        "\n",
        "pl.figure(5)\n",
        "pl.imshow(Gs, interpolation='nearest')\n",
        "pl.title('OT matrix sinkhorn')\n",
        "\n",
        "pl.figure(6)\n",
        "ot.plot.plot2D_samples_mat(xs, xt, Gs, color=[.5, .5, 1])\n",
        "pl.plot(xs[:, 0], xs[:, 1], '+b', label='Source samples')\n",
        "pl.plot(xt[:, 0], xt[:, 1], 'xr', label='Target samples')\n",
        "pl.legend(loc=0)\n",
        "pl.title('OT matrix Sinkhorn with samples')\n",
        "\n",
        "pl.show()"
      ]
    },
    {
      "cell_type": "markdown",
      "metadata": {
        "id": "6S3CV0JJnAol"
      },
      "source": [
        "## Empirical Sinkhorn\n",
        "\n"
      ]
    },
    {
      "cell_type": "code",
      "execution_count": null,
      "metadata": {
        "id": "prP6ak-ynAol"
      },
      "outputs": [],
      "source": [
        "# reg term\n",
        "lambd = 1e-1\n",
        "\n",
        "Ges = ot.bregman.empirical_sinkhorn(xs, xt, lambd)\n",
        "\n",
        "pl.figure(7)\n",
        "pl.imshow(Ges, interpolation='nearest')\n",
        "pl.title('OT matrix empirical sinkhorn')\n",
        "\n",
        "pl.figure(8)\n",
        "ot.plot.plot2D_samples_mat(xs, xt, Ges, color=[.5, .5, 1])\n",
        "pl.plot(xs[:, 0], xs[:, 1], '+b', label='Source samples')\n",
        "pl.plot(xt[:, 0], xt[:, 1], 'xr', label='Target samples')\n",
        "pl.legend(loc=0)\n",
        "pl.title('OT matrix Sinkhorn from samples')\n",
        "\n",
        "pl.show()"
      ]
    }
  ],
  "metadata": {
    "kernelspec": {
      "display_name": "Python 3",
      "language": "python",
      "name": "python3"
    },
    "language_info": {
      "codemirror_mode": {
        "name": "ipython",
        "version": 3
      },
      "file_extension": ".py",
      "mimetype": "text/x-python",
      "name": "python",
      "nbconvert_exporter": "python",
      "pygments_lexer": "ipython3",
      "version": "3.10.13"
    },
    "colab": {
      "provenance": [],
      "include_colab_link": true
    }
  },
  "nbformat": 4,
  "nbformat_minor": 0
}